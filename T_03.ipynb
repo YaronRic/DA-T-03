{
 "cells": [
  {
   "cell_type": "code",
   "execution_count": 21,
   "metadata": {},
   "outputs": [],
   "source": [
    "import pandas as pd\n",
    "import requests\n",
    "import json\n",
    "import googlemaps"
   ]
  },
  {
   "cell_type": "code",
   "execution_count": 22,
   "metadata": {},
   "outputs": [],
   "source": [
    "api_key = '***'\n",
    "gmaps = googlemaps.Client(api_key)"
   ]
  },
  {
   "cell_type": "code",
   "execution_count": 23,
   "metadata": {},
   "outputs": [],
   "source": [
    "# destinations list\n",
    "with open('dests.txt', 'r') as file:\n",
    "    f = file.read().splitlines()"
   ]
  },
  {
   "cell_type": "code",
   "execution_count": 24,
   "metadata": {},
   "outputs": [],
   "source": [
    "# creating the df\n",
    "df = pd.DataFrame(columns = ['Target', 'Distance_km', 'Duration', 'Longitude', 'Latitude'])"
   ]
  },
  {
   "cell_type": "code",
   "execution_count": 25,
   "metadata": {},
   "outputs": [],
   "source": [
    "df['Target'] = f\n",
    "df['Origin'] = 'Tel-Aviv'"
   ]
  },
  {
   "cell_type": "code",
   "execution_count": 26,
   "metadata": {},
   "outputs": [],
   "source": [
    "distance_url = 'https://maps.googleapis.com/maps/api/distancematrix/json?units=metric'\n",
    "geocoding_url = 'https://maps.googleapis.com/maps/api/geocode/json'"
   ]
  },
  {
   "cell_type": "code",
   "execution_count": 27,
   "metadata": {},
   "outputs": [],
   "source": [
    "# generate url's_lst\n",
    "url_matrix = [f'{distance_url}&origins=Tel-Aviv&destinations={dest}&key={api_key}' for dest in f]\n",
    "url_geocoding = [f'{geocoding_url}?address={destination}&key={api_key}' for destination in f]"
   ]
  },
  {
   "cell_type": "code",
   "execution_count": 28,
   "metadata": {},
   "outputs": [],
   "source": [
    "# get cols distance & duration\n",
    "responses_matrix = [requests.get(url).json() for url in url_matrix]\n",
    "distances = [response['rows'][0]['elements'][0]['distance']['value'] / 1000 for response in responses_matrix]\n",
    "durations = [response['rows'][0]['elements'][0]['duration']['text'] for  response in responses_matrix]"
   ]
  },
  {
   "cell_type": "code",
   "execution_count": 29,
   "metadata": {},
   "outputs": [],
   "source": [
    "# get cols latitudes & longitudes\n",
    "responses_geocoding = [requests.get(url).json() for url in url_geocoding]\n",
    "locations = [response['results'][0]['geometry']['location'] for response in responses_geocoding]\n",
    "longitudes = [location['lng']for location in locations]\n",
    "latitudes = [location['lat'] for location in locations]"
   ]
  },
  {
   "cell_type": "code",
   "execution_count": 30,
   "metadata": {},
   "outputs": [],
   "source": [
    "# set the col's to the df\n",
    "df['Distance_km'] = distances\n",
    "df['Duration'] = durations\n",
    "df['Longitude'] = longitudes\n",
    "df['Latitude'] = latitudes"
   ]
  },
  {
   "cell_type": "code",
   "execution_count": 31,
   "metadata": {},
   "outputs": [
    {
     "name": "stdout",
     "output_type": "stream",
     "text": [
      "      Target  Distance_km          Duration  Longitude   Latitude    Origin\n",
      "0   Istanbul     1815.227   21 hours 3 mins  28.978359  41.008238  Tel-Aviv\n",
      "1  Amsterdam     4532.541    2 days 0 hours   4.904139  52.367573  Tel-Aviv\n",
      "2   Valletta     3792.883    2 days 3 hours  14.514100  35.899237  Tel-Aviv\n",
      "3      Basel     4092.805    1 day 20 hours   7.588576  47.559599  Tel-Aviv\n",
      "4       Doha     2164.477  22 hours 39 mins  51.531040  25.285447  Tel-Aviv\n"
     ]
    }
   ],
   "source": [
    "# \"On a separate cell, print the dataframe content.\"\n",
    "print(df)"
   ]
  },
  {
   "cell_type": "code",
   "execution_count": 35,
   "metadata": {},
   "outputs": [
    {
     "data": {
      "text/plain": [
       "['Valletta', 'Basel', 'Amsterdam']"
      ]
     },
     "execution_count": 35,
     "metadata": {},
     "output_type": "execute_result"
    }
   ],
   "source": [
    "# \"Find the 3 cities furthest from Tel Aviv.\"\n",
    "furthest_3 = list(df.sort_values(by = 'Distance_km').tail(3)['Target'])\n",
    "furthest_3"
   ]
  },
  {
   "cell_type": "code",
   "execution_count": null,
   "metadata": {},
   "outputs": [],
   "source": []
  }
 ],
 "metadata": {
  "kernelspec": {
   "display_name": "Python 3",
   "language": "python",
   "name": "python3"
  },
  "language_info": {
   "codemirror_mode": {
    "name": "ipython",
    "version": 3
   },
   "file_extension": ".py",
   "mimetype": "text/x-python",
   "name": "python",
   "nbconvert_exporter": "python",
   "pygments_lexer": "ipython3",
   "version": "3.6.2"
  },
  "orig_nbformat": 4
 },
 "nbformat": 4,
 "nbformat_minor": 2
}
